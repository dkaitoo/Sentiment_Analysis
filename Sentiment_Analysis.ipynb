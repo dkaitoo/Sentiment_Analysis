{
  "cells": [
    {
      "cell_type": "code",
      "execution_count": null,
      "metadata": {
        "id": "AuIB5Cfhm3F3",
        "colab": {
          "base_uri": "https://localhost:8080/"
        },
        "outputId": "de0bfd06-fb15-419a-f753-b506e65a6d6c"
      },
      "outputs": [
        {
          "output_type": "stream",
          "name": "stdout",
          "text": [
            "Collecting pyvi\n",
            "  Downloading pyvi-0.1.1-py2.py3-none-any.whl (8.5 MB)\n",
            "\u001b[K     |████████████████████████████████| 8.5 MB 4.4 MB/s \n",
            "\u001b[?25hRequirement already satisfied: scikit-learn in /usr/local/lib/python3.7/dist-packages (from pyvi) (1.0.2)\n",
            "Collecting sklearn-crfsuite\n",
            "  Downloading sklearn_crfsuite-0.3.6-py2.py3-none-any.whl (12 kB)\n",
            "Requirement already satisfied: threadpoolctl>=2.0.0 in /usr/local/lib/python3.7/dist-packages (from scikit-learn->pyvi) (3.1.0)\n",
            "Requirement already satisfied: scipy>=1.1.0 in /usr/local/lib/python3.7/dist-packages (from scikit-learn->pyvi) (1.4.1)\n",
            "Requirement already satisfied: joblib>=0.11 in /usr/local/lib/python3.7/dist-packages (from scikit-learn->pyvi) (1.1.0)\n",
            "Requirement already satisfied: numpy>=1.14.6 in /usr/local/lib/python3.7/dist-packages (from scikit-learn->pyvi) (1.21.6)\n",
            "Requirement already satisfied: tabulate in /usr/local/lib/python3.7/dist-packages (from sklearn-crfsuite->pyvi) (0.8.9)\n",
            "Requirement already satisfied: six in /usr/local/lib/python3.7/dist-packages (from sklearn-crfsuite->pyvi) (1.15.0)\n",
            "Requirement already satisfied: tqdm>=2.0 in /usr/local/lib/python3.7/dist-packages (from sklearn-crfsuite->pyvi) (4.64.0)\n",
            "Collecting python-crfsuite>=0.8.3\n",
            "  Downloading python_crfsuite-0.9.8-cp37-cp37m-manylinux_2_17_x86_64.manylinux2014_x86_64.whl (965 kB)\n",
            "\u001b[K     |████████████████████████████████| 965 kB 57.6 MB/s \n",
            "\u001b[?25hInstalling collected packages: python-crfsuite, sklearn-crfsuite, pyvi\n",
            "Successfully installed python-crfsuite-0.9.8 pyvi-0.1.1 sklearn-crfsuite-0.3.6\n"
          ]
        }
      ],
      "source": [
        "!pip install pyvi"
      ]
    },
    {
      "cell_type": "code",
      "execution_count": null,
      "metadata": {
        "id": "8qN8PoQHBgtl",
        "colab": {
          "base_uri": "https://localhost:8080/"
        },
        "outputId": "2afbd1b3-6018-4071-e160-32eb054dd761"
      },
      "outputs": [
        {
          "output_type": "stream",
          "name": "stdout",
          "text": [
            "Mounted at /content/gdrive\n"
          ]
        }
      ],
      "source": [
        "from google.colab import drive\n",
        "drive.mount('/content/gdrive')"
      ]
    },
    {
      "cell_type": "code",
      "execution_count": null,
      "metadata": {
        "id": "_OcZW91eCCVX"
      },
      "outputs": [],
      "source": [
        "import sys\n",
        "sys.path.append(\"/content/gdrive/My Drive/\")"
      ]
    },
    {
      "cell_type": "markdown",
      "metadata": {
        "id": "2IEHWYq4iyRK"
      },
      "source": [
        "**Thêm thư viện**"
      ]
    },
    {
      "cell_type": "code",
      "execution_count": null,
      "metadata": {
        "id": "WasqoiHBCGb6"
      },
      "outputs": [],
      "source": [
        "import pandas as pd\n",
        "from datetime import datetime, date\n",
        "from dateutil.parser import parse\n",
        "import numpy as np\n",
        "import tensorflow as tf\n",
        "from pyvi import ViTokenizer, ViUtils\n",
        "from keras.preprocessing.text import Tokenizer\n",
        "from keras.preprocessing.sequence import pad_sequences\n",
        "from keras.models import load_model\n",
        "from keras import Sequential\n",
        "from tensorflow.keras.optimizers import Adam, SGD\n",
        "from keras.layers import Embedding, Dense, Dropout, Input, MaxPooling1D, MaxPooling2D, LayerNormalization, Conv1D, Conv2D ,Bidirectional, LSTM, GlobalMaxPooling1D, Flatten, BatchNormalization\n",
        "from keras.callbacks import ModelCheckpoint\n",
        "import matplotlib.pyplot as plt\n",
        "from sklearn.model_selection import train_test_split\n",
        "from sklearn.metrics import classification_report\n",
        "import pickle\n",
        "import seaborn as sns\n",
        "from sklearn.metrics import f1_score, accuracy_score"
      ]
    },
    {
      "cell_type": "markdown",
      "metadata": {
        "id": "c2QOilKogPVt"
      },
      "source": [
        "**ĐỌC DỮ LIỆU**"
      ]
    },
    {
      "cell_type": "code",
      "execution_count": null,
      "metadata": {
        "id": "Kf_VsugtCG5O",
        "colab": {
          "base_uri": "https://localhost:8080/",
          "height": 206
        },
        "outputId": "4d7749b7-ee02-4b2a-99c4-af7d591f73aa"
      },
      "outputs": [
        {
          "output_type": "execute_result",
          "data": {
            "text/plain": [
              "                      content label  start\n",
              "0               Áo bao đẹp ạ!   POS      5\n",
              "1                   Tuyệt vời   POS      5\n",
              "2   2day ao khong giong trong   NEG      1\n",
              "3  Mùi thơm,bôi lên da mềm da   POS      5\n",
              "4            Vải đẹp, dày dặn   POS      5"
            ],
            "text/html": [
              "\n",
              "  <div id=\"df-442c1f9e-d2c8-420b-9165-7c15ac50569c\">\n",
              "    <div class=\"colab-df-container\">\n",
              "      <div>\n",
              "<style scoped>\n",
              "    .dataframe tbody tr th:only-of-type {\n",
              "        vertical-align: middle;\n",
              "    }\n",
              "\n",
              "    .dataframe tbody tr th {\n",
              "        vertical-align: top;\n",
              "    }\n",
              "\n",
              "    .dataframe thead th {\n",
              "        text-align: right;\n",
              "    }\n",
              "</style>\n",
              "<table border=\"1\" class=\"dataframe\">\n",
              "  <thead>\n",
              "    <tr style=\"text-align: right;\">\n",
              "      <th></th>\n",
              "      <th>content</th>\n",
              "      <th>label</th>\n",
              "      <th>start</th>\n",
              "    </tr>\n",
              "  </thead>\n",
              "  <tbody>\n",
              "    <tr>\n",
              "      <th>0</th>\n",
              "      <td>Áo bao đẹp ạ!</td>\n",
              "      <td>POS</td>\n",
              "      <td>5</td>\n",
              "    </tr>\n",
              "    <tr>\n",
              "      <th>1</th>\n",
              "      <td>Tuyệt vời</td>\n",
              "      <td>POS</td>\n",
              "      <td>5</td>\n",
              "    </tr>\n",
              "    <tr>\n",
              "      <th>2</th>\n",
              "      <td>2day ao khong giong trong</td>\n",
              "      <td>NEG</td>\n",
              "      <td>1</td>\n",
              "    </tr>\n",
              "    <tr>\n",
              "      <th>3</th>\n",
              "      <td>Mùi thơm,bôi lên da mềm da</td>\n",
              "      <td>POS</td>\n",
              "      <td>5</td>\n",
              "    </tr>\n",
              "    <tr>\n",
              "      <th>4</th>\n",
              "      <td>Vải đẹp, dày dặn</td>\n",
              "      <td>POS</td>\n",
              "      <td>5</td>\n",
              "    </tr>\n",
              "  </tbody>\n",
              "</table>\n",
              "</div>\n",
              "      <button class=\"colab-df-convert\" onclick=\"convertToInteractive('df-442c1f9e-d2c8-420b-9165-7c15ac50569c')\"\n",
              "              title=\"Convert this dataframe to an interactive table.\"\n",
              "              style=\"display:none;\">\n",
              "        \n",
              "  <svg xmlns=\"http://www.w3.org/2000/svg\" height=\"24px\"viewBox=\"0 0 24 24\"\n",
              "       width=\"24px\">\n",
              "    <path d=\"M0 0h24v24H0V0z\" fill=\"none\"/>\n",
              "    <path d=\"M18.56 5.44l.94 2.06.94-2.06 2.06-.94-2.06-.94-.94-2.06-.94 2.06-2.06.94zm-11 1L8.5 8.5l.94-2.06 2.06-.94-2.06-.94L8.5 2.5l-.94 2.06-2.06.94zm10 10l.94 2.06.94-2.06 2.06-.94-2.06-.94-.94-2.06-.94 2.06-2.06.94z\"/><path d=\"M17.41 7.96l-1.37-1.37c-.4-.4-.92-.59-1.43-.59-.52 0-1.04.2-1.43.59L10.3 9.45l-7.72 7.72c-.78.78-.78 2.05 0 2.83L4 21.41c.39.39.9.59 1.41.59.51 0 1.02-.2 1.41-.59l7.78-7.78 2.81-2.81c.8-.78.8-2.07 0-2.86zM5.41 20L4 18.59l7.72-7.72 1.47 1.35L5.41 20z\"/>\n",
              "  </svg>\n",
              "      </button>\n",
              "      \n",
              "  <style>\n",
              "    .colab-df-container {\n",
              "      display:flex;\n",
              "      flex-wrap:wrap;\n",
              "      gap: 12px;\n",
              "    }\n",
              "\n",
              "    .colab-df-convert {\n",
              "      background-color: #E8F0FE;\n",
              "      border: none;\n",
              "      border-radius: 50%;\n",
              "      cursor: pointer;\n",
              "      display: none;\n",
              "      fill: #1967D2;\n",
              "      height: 32px;\n",
              "      padding: 0 0 0 0;\n",
              "      width: 32px;\n",
              "    }\n",
              "\n",
              "    .colab-df-convert:hover {\n",
              "      background-color: #E2EBFA;\n",
              "      box-shadow: 0px 1px 2px rgba(60, 64, 67, 0.3), 0px 1px 3px 1px rgba(60, 64, 67, 0.15);\n",
              "      fill: #174EA6;\n",
              "    }\n",
              "\n",
              "    [theme=dark] .colab-df-convert {\n",
              "      background-color: #3B4455;\n",
              "      fill: #D2E3FC;\n",
              "    }\n",
              "\n",
              "    [theme=dark] .colab-df-convert:hover {\n",
              "      background-color: #434B5C;\n",
              "      box-shadow: 0px 1px 3px 1px rgba(0, 0, 0, 0.15);\n",
              "      filter: drop-shadow(0px 1px 2px rgba(0, 0, 0, 0.3));\n",
              "      fill: #FFFFFF;\n",
              "    }\n",
              "  </style>\n",
              "\n",
              "      <script>\n",
              "        const buttonEl =\n",
              "          document.querySelector('#df-442c1f9e-d2c8-420b-9165-7c15ac50569c button.colab-df-convert');\n",
              "        buttonEl.style.display =\n",
              "          google.colab.kernel.accessAllowed ? 'block' : 'none';\n",
              "\n",
              "        async function convertToInteractive(key) {\n",
              "          const element = document.querySelector('#df-442c1f9e-d2c8-420b-9165-7c15ac50569c');\n",
              "          const dataTable =\n",
              "            await google.colab.kernel.invokeFunction('convertToInteractive',\n",
              "                                                     [key], {});\n",
              "          if (!dataTable) return;\n",
              "\n",
              "          const docLinkHtml = 'Like what you see? Visit the ' +\n",
              "            '<a target=\"_blank\" href=https://colab.research.google.com/notebooks/data_table.ipynb>data table notebook</a>'\n",
              "            + ' to learn more about interactive tables.';\n",
              "          element.innerHTML = '';\n",
              "          dataTable['output_type'] = 'display_data';\n",
              "          await google.colab.output.renderOutput(dataTable, element);\n",
              "          const docLink = document.createElement('div');\n",
              "          docLink.innerHTML = docLinkHtml;\n",
              "          element.appendChild(docLink);\n",
              "        }\n",
              "      </script>\n",
              "    </div>\n",
              "  </div>\n",
              "  "
            ]
          },
          "metadata": {},
          "execution_count": 5
        }
      ],
      "source": [
        "df_raw = pd.read_csv('/content/gdrive/MyDrive/BigData/data.csv')\n",
        "df_raw.head()"
      ]
    },
    {
      "cell_type": "code",
      "execution_count": null,
      "metadata": {
        "id": "2XEiMivogk02",
        "colab": {
          "base_uri": "https://localhost:8080/",
          "height": 206
        },
        "outputId": "bb5feb81-9f59-4353-a309-f505d94200f4"
      },
      "outputs": [
        {
          "output_type": "execute_result",
          "data": {
            "text/plain": [
              "                     Binhluan label\n",
              "0               Áo bao đẹp ạ!   POS\n",
              "1                   Tuyệt vời   POS\n",
              "2   2day ao khong giong trong   NEG\n",
              "3  Mùi thơm,bôi lên da mềm da   POS\n",
              "4            Vải đẹp, dày dặn   POS"
            ],
            "text/html": [
              "\n",
              "  <div id=\"df-3d404789-b022-45ae-bbf6-bd859d719e99\">\n",
              "    <div class=\"colab-df-container\">\n",
              "      <div>\n",
              "<style scoped>\n",
              "    .dataframe tbody tr th:only-of-type {\n",
              "        vertical-align: middle;\n",
              "    }\n",
              "\n",
              "    .dataframe tbody tr th {\n",
              "        vertical-align: top;\n",
              "    }\n",
              "\n",
              "    .dataframe thead th {\n",
              "        text-align: right;\n",
              "    }\n",
              "</style>\n",
              "<table border=\"1\" class=\"dataframe\">\n",
              "  <thead>\n",
              "    <tr style=\"text-align: right;\">\n",
              "      <th></th>\n",
              "      <th>Binhluan</th>\n",
              "      <th>label</th>\n",
              "    </tr>\n",
              "  </thead>\n",
              "  <tbody>\n",
              "    <tr>\n",
              "      <th>0</th>\n",
              "      <td>Áo bao đẹp ạ!</td>\n",
              "      <td>POS</td>\n",
              "    </tr>\n",
              "    <tr>\n",
              "      <th>1</th>\n",
              "      <td>Tuyệt vời</td>\n",
              "      <td>POS</td>\n",
              "    </tr>\n",
              "    <tr>\n",
              "      <th>2</th>\n",
              "      <td>2day ao khong giong trong</td>\n",
              "      <td>NEG</td>\n",
              "    </tr>\n",
              "    <tr>\n",
              "      <th>3</th>\n",
              "      <td>Mùi thơm,bôi lên da mềm da</td>\n",
              "      <td>POS</td>\n",
              "    </tr>\n",
              "    <tr>\n",
              "      <th>4</th>\n",
              "      <td>Vải đẹp, dày dặn</td>\n",
              "      <td>POS</td>\n",
              "    </tr>\n",
              "  </tbody>\n",
              "</table>\n",
              "</div>\n",
              "      <button class=\"colab-df-convert\" onclick=\"convertToInteractive('df-3d404789-b022-45ae-bbf6-bd859d719e99')\"\n",
              "              title=\"Convert this dataframe to an interactive table.\"\n",
              "              style=\"display:none;\">\n",
              "        \n",
              "  <svg xmlns=\"http://www.w3.org/2000/svg\" height=\"24px\"viewBox=\"0 0 24 24\"\n",
              "       width=\"24px\">\n",
              "    <path d=\"M0 0h24v24H0V0z\" fill=\"none\"/>\n",
              "    <path d=\"M18.56 5.44l.94 2.06.94-2.06 2.06-.94-2.06-.94-.94-2.06-.94 2.06-2.06.94zm-11 1L8.5 8.5l.94-2.06 2.06-.94-2.06-.94L8.5 2.5l-.94 2.06-2.06.94zm10 10l.94 2.06.94-2.06 2.06-.94-2.06-.94-.94-2.06-.94 2.06-2.06.94z\"/><path d=\"M17.41 7.96l-1.37-1.37c-.4-.4-.92-.59-1.43-.59-.52 0-1.04.2-1.43.59L10.3 9.45l-7.72 7.72c-.78.78-.78 2.05 0 2.83L4 21.41c.39.39.9.59 1.41.59.51 0 1.02-.2 1.41-.59l7.78-7.78 2.81-2.81c.8-.78.8-2.07 0-2.86zM5.41 20L4 18.59l7.72-7.72 1.47 1.35L5.41 20z\"/>\n",
              "  </svg>\n",
              "      </button>\n",
              "      \n",
              "  <style>\n",
              "    .colab-df-container {\n",
              "      display:flex;\n",
              "      flex-wrap:wrap;\n",
              "      gap: 12px;\n",
              "    }\n",
              "\n",
              "    .colab-df-convert {\n",
              "      background-color: #E8F0FE;\n",
              "      border: none;\n",
              "      border-radius: 50%;\n",
              "      cursor: pointer;\n",
              "      display: none;\n",
              "      fill: #1967D2;\n",
              "      height: 32px;\n",
              "      padding: 0 0 0 0;\n",
              "      width: 32px;\n",
              "    }\n",
              "\n",
              "    .colab-df-convert:hover {\n",
              "      background-color: #E2EBFA;\n",
              "      box-shadow: 0px 1px 2px rgba(60, 64, 67, 0.3), 0px 1px 3px 1px rgba(60, 64, 67, 0.15);\n",
              "      fill: #174EA6;\n",
              "    }\n",
              "\n",
              "    [theme=dark] .colab-df-convert {\n",
              "      background-color: #3B4455;\n",
              "      fill: #D2E3FC;\n",
              "    }\n",
              "\n",
              "    [theme=dark] .colab-df-convert:hover {\n",
              "      background-color: #434B5C;\n",
              "      box-shadow: 0px 1px 3px 1px rgba(0, 0, 0, 0.15);\n",
              "      filter: drop-shadow(0px 1px 2px rgba(0, 0, 0, 0.3));\n",
              "      fill: #FFFFFF;\n",
              "    }\n",
              "  </style>\n",
              "\n",
              "      <script>\n",
              "        const buttonEl =\n",
              "          document.querySelector('#df-3d404789-b022-45ae-bbf6-bd859d719e99 button.colab-df-convert');\n",
              "        buttonEl.style.display =\n",
              "          google.colab.kernel.accessAllowed ? 'block' : 'none';\n",
              "\n",
              "        async function convertToInteractive(key) {\n",
              "          const element = document.querySelector('#df-3d404789-b022-45ae-bbf6-bd859d719e99');\n",
              "          const dataTable =\n",
              "            await google.colab.kernel.invokeFunction('convertToInteractive',\n",
              "                                                     [key], {});\n",
              "          if (!dataTable) return;\n",
              "\n",
              "          const docLinkHtml = 'Like what you see? Visit the ' +\n",
              "            '<a target=\"_blank\" href=https://colab.research.google.com/notebooks/data_table.ipynb>data table notebook</a>'\n",
              "            + ' to learn more about interactive tables.';\n",
              "          element.innerHTML = '';\n",
              "          dataTable['output_type'] = 'display_data';\n",
              "          await google.colab.output.renderOutput(dataTable, element);\n",
              "          const docLink = document.createElement('div');\n",
              "          docLink.innerHTML = docLinkHtml;\n",
              "          element.appendChild(docLink);\n",
              "        }\n",
              "      </script>\n",
              "    </div>\n",
              "  </div>\n",
              "  "
            ]
          },
          "metadata": {},
          "execution_count": 6
        }
      ],
      "source": [
        "senti_data = pd.DataFrame({'Binhluan': df_raw['content'],'label': df_raw['label']}) \n",
        "senti_data = senti_data.dropna() #Loại bỏ các hàng có chứa giá trị NULL\n",
        "senti_data = senti_data.reset_index(drop = True) #reset lại vị trí\n",
        "senti_data.head()"
      ]
    },
    {
      "cell_type": "code",
      "source": [
        "# vẽ biểu đồ thể hiện số liệu giữa 3 nhãn\n",
        "sns.countplot(senti_data['label'])"
      ],
      "metadata": {
        "colab": {
          "base_uri": "https://localhost:8080/",
          "height": 351
        },
        "id": "9wqisnMJKucI",
        "outputId": "94c09ce8-7bcc-4533-f54e-9041cd4ba4ec"
      },
      "execution_count": null,
      "outputs": [
        {
          "output_type": "stream",
          "name": "stderr",
          "text": [
            "/usr/local/lib/python3.7/dist-packages/seaborn/_decorators.py:43: FutureWarning: Pass the following variable as a keyword arg: x. From version 0.12, the only valid positional argument will be `data`, and passing other arguments without an explicit keyword will result in an error or misinterpretation.\n",
            "  FutureWarning\n"
          ]
        },
        {
          "output_type": "execute_result",
          "data": {
            "text/plain": [
              "<matplotlib.axes._subplots.AxesSubplot at 0x7f73125b1e10>"
            ]
          },
          "metadata": {},
          "execution_count": 7
        },
        {
          "output_type": "display_data",
          "data": {
            "text/plain": [
              "<Figure size 432x288 with 1 Axes>"
            ],
            "image/png": "[encoded data removed]"
          },
          "metadata": {
            "needs_background": "light"
          }
        }
      ]
    },
    {
      "cell_type": "code",
      "source": [
        "senti_data.describe()"
      ],
      "metadata": {
        "colab": {
          "base_uri": "https://localhost:8080/",
          "height": 175
        },
        "id": "3lB52p53UzzN",
        "outputId": "e2d36c24-c80a-4f55-dc63-547ae42439e9"
      },
      "execution_count": null,
      "outputs": [
        {
          "output_type": "execute_result",
          "data": {
            "text/plain": [
              "                             Binhluan  label\n",
              "count                           31436  31436\n",
              "unique                          26516      3\n",
              "top     Chất lượng sản phẩm tuyệt vời    POS\n",
              "freq                              590  20078"
            ],
            "text/html": [
              "\n",
              "  <div id=\"df-3c8cbfe0-dca9-490f-8b2d-a2a2e442ddbd\">\n",
              "    <div class=\"colab-df-container\">\n",
              "      <div>\n",
              "<style scoped>\n",
              "    .dataframe tbody tr th:only-of-type {\n",
              "        vertical-align: middle;\n",
              "    }\n",
              "\n",
              "    .dataframe tbody tr th {\n",
              "        vertical-align: top;\n",
              "    }\n",
              "\n",
              "    .dataframe thead th {\n",
              "        text-align: right;\n",
              "    }\n",
              "</style>\n",
              "<table border=\"1\" class=\"dataframe\">\n",
              "  <thead>\n",
              "    <tr style=\"text-align: right;\">\n",
              "      <th></th>\n",
              "      <th>Binhluan</th>\n",
              "      <th>label</th>\n",
              "    </tr>\n",
              "  </thead>\n",
              "  <tbody>\n",
              "    <tr>\n",
              "      <th>count</th>\n",
              "      <td>31436</td>\n",
              "      <td>31436</td>\n",
              "    </tr>\n",
              "    <tr>\n",
              "      <th>unique</th>\n",
              "      <td>26516</td>\n",
              "      <td>3</td>\n",
              "    </tr>\n",
              "    <tr>\n",
              "      <th>top</th>\n",
              "      <td>Chất lượng sản phẩm tuyệt vời</td>\n",
              "      <td>POS</td>\n",
              "    </tr>\n",
              "    <tr>\n",
              "      <th>freq</th>\n",
              "      <td>590</td>\n",
              "      <td>20078</td>\n",
              "    </tr>\n",
              "  </tbody>\n",
              "</table>\n",
              "</div>\n",
              "      <button class=\"colab-df-convert\" onclick=\"convertToInteractive('df-3c8cbfe0-dca9-490f-8b2d-a2a2e442ddbd')\"\n",
              "              title=\"Convert this dataframe to an interactive table.\"\n",
              "              style=\"display:none;\">\n",
              "        \n",
              "  <svg xmlns=\"http://www.w3.org/2000/svg\" height=\"24px\"viewBox=\"0 0 24 24\"\n",
              "       width=\"24px\">\n",
              "    <path d=\"M0 0h24v24H0V0z\" fill=\"none\"/>\n",
              "    <path d=\"M18.56 5.44l.94 2.06.94-2.06 2.06-.94-2.06-.94-.94-2.06-.94 2.06-2.06.94zm-11 1L8.5 8.5l.94-2.06 2.06-.94-2.06-.94L8.5 2.5l-.94 2.06-2.06.94zm10 10l.94 2.06.94-2.06 2.06-.94-2.06-.94-.94-2.06-.94 2.06-2.06.94z\"/><path d=\"M17.41 7.96l-1.37-1.37c-.4-.4-.92-.59-1.43-.59-.52 0-1.04.2-1.43.59L10.3 9.45l-7.72 7.72c-.78.78-.78 2.05 0 2.83L4 21.41c.39.39.9.59 1.41.59.51 0 1.02-.2 1.41-.59l7.78-7.78 2.81-2.81c.8-.78.8-2.07 0-2.86zM5.41 20L4 18.59l7.72-7.72 1.47 1.35L5.41 20z\"/>\n",
              "  </svg>\n",
              "      </button>\n",
              "      \n",
              "  <style>\n",
              "    .colab-df-container {\n",
              "      display:flex;\n",
              "      flex-wrap:wrap;\n",
              "      gap: 12px;\n",
              "    }\n",
              "\n",
              "    .colab-df-convert {\n",
              "      background-color: #E8F0FE;\n",
              "      border: none;\n",
              "      border-radius: 50%;\n",
              "      cursor: pointer;\n",
              "      display: none;\n",
              "      fill: #1967D2;\n",
              "      height: 32px;\n",
              "      padding: 0 0 0 0;\n",
              "      width: 32px;\n",
              "    }\n",
              "\n",
              "    .colab-df-convert:hover {\n",
              "      background-color: #E2EBFA;\n",
              "      box-shadow: 0px 1px 2px rgba(60, 64, 67, 0.3), 0px 1px 3px 1px rgba(60, 64, 67, 0.15);\n",
              "      fill: #174EA6;\n",
              "    }\n",
              "\n",
              "    [theme=dark] .colab-df-convert {\n",
              "      background-color: #3B4455;\n",
              "      fill: #D2E3FC;\n",
              "    }\n",
              "\n",
              "    [theme=dark] .colab-df-convert:hover {\n",
              "      background-color: #434B5C;\n",
              "      box-shadow: 0px 1px 3px 1px rgba(0, 0, 0, 0.15);\n",
              "      filter: drop-shadow(0px 1px 2px rgba(0, 0, 0, 0.3));\n",
              "      fill: #FFFFFF;\n",
              "    }\n",
              "  </style>\n",
              "\n",
              "      <script>\n",
              "        const buttonEl =\n",
              "          document.querySelector('#df-3c8cbfe0-dca9-490f-8b2d-a2a2e442ddbd button.colab-df-convert');\n",
              "        buttonEl.style.display =\n",
              "          google.colab.kernel.accessAllowed ? 'block' : 'none';\n",
              "\n",
              "        async function convertToInteractive(key) {\n",
              "          const element = document.querySelector('#df-3c8cbfe0-dca9-490f-8b2d-a2a2e442ddbd');\n",
              "          const dataTable =\n",
              "            await google.colab.kernel.invokeFunction('convertToInteractive',\n",
              "                                                     [key], {});\n",
              "          if (!dataTable) return;\n",
              "\n",
              "          const docLinkHtml = 'Like what you see? Visit the ' +\n",
              "            '<a target=\"_blank\" href=https://colab.research.google.com/notebooks/data_table.ipynb>data table notebook</a>'\n",
              "            + ' to learn more about interactive tables.';\n",
              "          element.innerHTML = '';\n",
              "          dataTable['output_type'] = 'display_data';\n",
              "          await google.colab.output.renderOutput(dataTable, element);\n",
              "          const docLink = document.createElement('div');\n",
              "          docLink.innerHTML = docLinkHtml;\n",
              "          element.appendChild(docLink);\n",
              "        }\n",
              "      </script>\n",
              "    </div>\n",
              "  </div>\n",
              "  "
            ]
          },
          "metadata": {},
          "execution_count": 8
        }
      ]
    },
    {
      "cell_type": "code",
      "source": [
        "# Xác định độ dài của từ\n",
        "lengths = senti_data[\"Binhluan\"].str.split().str.len() #tách thành từng mảng r đếm từ\n",
        "lengths.describe()"
      ],
      "metadata": {
        "colab": {
          "base_uri": "https://localhost:8080/"
        },
        "id": "maw_eULtUtIb",
        "outputId": "0ee381c4-c36a-42e3-86be-a95b5608e0aa"
      },
      "execution_count": null,
      "outputs": [
        {
          "output_type": "execute_result",
          "data": {
            "text/plain": [
              "count    31436.000000\n",
              "mean        10.195699\n",
              "std          8.620445\n",
              "min          1.000000\n",
              "25%          5.000000\n",
              "50%          8.000000\n",
              "75%         13.000000\n",
              "max         74.000000\n",
              "Name: Binhluan, dtype: float64"
            ]
          },
          "metadata": {},
          "execution_count": 9
        }
      ]
    },
    {
      "cell_type": "code",
      "source": [
        "lengths.hist(bins=50) # len 8 xuất hiện nhìu nhất"
      ],
      "metadata": {
        "colab": {
          "base_uri": "https://localhost:8080/",
          "height": 282
        },
        "id": "lUHPvF8iJ7YS",
        "outputId": "16611e66-22be-4bd8-84de-f46aaa4958ce"
      },
      "execution_count": null,
      "outputs": [
        {
          "output_type": "execute_result",
          "data": {
            "text/plain": [
              "<matplotlib.axes._subplots.AxesSubplot at 0x7f730fb151d0>"
            ]
          },
          "metadata": {},
          "execution_count": 10
        },
        {
          "output_type": "display_data",
          "data": {
            "text/plain": [
              "<Figure size 432x288 with 1 Axes>"
            ],
            "image/png": "[encoded data removed]"
          },
          "metadata": {
            "needs_background": "light"
          }
        }
      ]
    },
    {
      "cell_type": "markdown",
      "metadata": {
        "id": "31uTf9EEi2di"
      },
      "source": [
        "# **Tiền xử lý dữ liệu**"
      ]
    },
    {
      "cell_type": "code",
      "execution_count": null,
      "metadata": {
        "id": "LTd-CWgkiWQX"
      },
      "outputs": [],
      "source": [
        "binhluan = senti_data['Binhluan'].values\n",
        "label = senti_data['label'].values\n",
        "dict_label = {'NEG': 0, 'NEU': 1, 'POS': 2}"
      ]
    },
    {
      "cell_type": "code",
      "execution_count": null,
      "metadata": {
        "id": "0Nd2cr0_loMJ"
      },
      "outputs": [],
      "source": [
        "def pre_process():\n",
        "  list_content = []\n",
        "  list_label = []\n",
        "  # hàm enumerate: thêm vào một bộ đếm(counter) vào trước mỗi iterable\n",
        "  for i,data in enumerate(binhluan):\n",
        "    pre_noidung = list(tf.keras.preprocessing.text.text_to_word_sequence(data))\n",
        "    pre_noidung = \" \".join(pre_noidung)\n",
        "    \n",
        "    #xu ly co dau \n",
        "    pre_noidung_codau = ViTokenizer.tokenize(pre_noidung)\n",
        "    \n",
        "    #them vao danh sach\n",
        "    list_content.append(pre_noidung_codau)\n",
        "    list_label.append(label[i]) # gán đúng vị trí tương ứng của nhãn đối với bình luận đó\n",
        "\n",
        "  return list_content,list_label #list_content: conten nối 2 từ _ , list_label: POS, NEG, NEU\n",
        "  \n",
        "(list_content,list_label) = pre_process()"
      ]
    },
    {
      "cell_type": "code",
      "source": [
        "label_pos = [dict_label[i] for i in list_label]\n",
        "label_tf = tf.keras.utils.to_categorical(label_pos, num_classes = 3, dtype='float32')"
      ],
      "metadata": {
        "id": "O95XsRZ1kqaG"
      },
      "execution_count": null,
      "outputs": []
    },
    {
      "cell_type": "code",
      "execution_count": null,
      "metadata": {
        "id": "gv7wayDerjHv"
      },
      "outputs": [],
      "source": [
        "X_train, X_test, y_train, y_test = train_test_split(list_content, label_tf, test_size = .15, random_state = 42)\n",
        "X_train, X_valid, y_train, y_valid = train_test_split(X_train, y_train, test_size = .2, random_state = 42)\n"
      ]
    },
    {
      "cell_type": "code",
      "source": [
        "print(\"Train:\", len(X_train))\n",
        "print(\"Test:\", len(X_test))\n",
        "print(\"Valid:\", len(X_valid))"
      ],
      "metadata": {
        "colab": {
          "base_uri": "https://localhost:8080/"
        },
        "id": "EbD4mhW9m0C_",
        "outputId": "1523aa2a-3137-455a-d29e-af817a2e4829"
      },
      "execution_count": null,
      "outputs": [
        {
          "output_type": "stream",
          "name": "stdout",
          "text": [
            "Train: 21376\n",
            "Test: 4716\n",
            "Valid: 5344\n"
          ]
        }
      ]
    },
    {
      "cell_type": "code",
      "source": [
        "seq_len = [len(i.split()) for i in X_train]\n",
        "pd.Series(seq_len).hist(bins = 30)"
      ],
      "metadata": {
        "colab": {
          "base_uri": "https://localhost:8080/",
          "height": 282
        },
        "id": "eGx_tnK1izKS",
        "outputId": "2f256c42-df54-4f55-8439-9b234f9f91ac"
      },
      "execution_count": null,
      "outputs": [
        {
          "output_type": "execute_result",
          "data": {
            "text/plain": [
              "<matplotlib.axes._subplots.AxesSubplot at 0x7f731155fa50>"
            ]
          },
          "metadata": {},
          "execution_count": 16
        },
        {
          "output_type": "display_data",
          "data": {
            "text/plain": [
              "<Figure size 432x288 with 1 Axes>"
            ],
            "image/png": "[encoded data removed]"
          },
          "metadata": {
            "needs_background": "light"
          }
        }
      ]
    },
    {
      "cell_type": "code",
      "source": [
        "tokenizer = Tokenizer(oov_token='<OOV>', filters='', split = ' ') # tạo đối tượng để tách thành các token với oov (loại các từ không có trong huấn luyện)\n",
        "tokenizer.fit_on_texts(X_train) # học và hiểu các text có trong bộ train -> biến đóng text thành các vocab\n",
        "\n",
        "# texts_to_sequences Chuyển từng văn bản trong văn bản thành một chuỗi các số nguyên\n",
        "X_train = tokenizer.texts_to_sequences(X_train) # biến 1 bộ dữ liệu train thành 1 vector với n phần tử\n",
        "vector_train = pad_sequences(X_train, padding='post', maxlen= 5) #cắt những phần tử có len lớn hơn 5 và ép nó về len = 5, post là cắt ở sau\n",
        "\n",
        "X_valid = tokenizer.texts_to_sequences(X_valid)\n",
        "vector_valid = pad_sequences(X_valid, padding='post', maxlen= 5) #tương tự\n",
        "\n",
        "X_test = tokenizer.texts_to_sequences(X_test)\n",
        "vector_test = pad_sequences(X_test, padding='post', maxlen= 5) #tương tự\n",
        "\n",
        "data_vocab_size = len(tokenizer.word_index) + 1 # + 1 vì có thêm oov trong vocab\n",
        "pickle.dump(tokenizer,open(\"tokenizer.pkl\",\"wb\")) #lưu lại để tái sử dụng"
      ],
      "metadata": {
        "id": "UK1MpgkPy4iY"
      },
      "execution_count": null,
      "outputs": []
    },
    {
      "cell_type": "code",
      "source": [
        "print(\"Train vector:\", vector_train.shape)\n",
        "print(\"Test vector:\", vector_valid.shape)\n",
        "print(\"Valid vector:\", vector_test.shape)\n",
        "print(\"Vocab size:\", data_vocab_size)"
      ],
      "metadata": {
        "colab": {
          "base_uri": "https://localhost:8080/"
        },
        "id": "8KGoo19CpJh9",
        "outputId": "4a9de981-8883-48b5-ec7c-707dbe27f8ce"
      },
      "execution_count": null,
      "outputs": [
        {
          "output_type": "stream",
          "name": "stdout",
          "text": [
            "Train vector: (21376, 5)\n",
            "Test vector: (5344, 5)\n",
            "Valid vector: (4716, 5)\n",
            "Vocab size: 6575\n"
          ]
        }
      ]
    },
    {
      "cell_type": "code",
      "source": [
        "# Vẽ biểu đồ thống kê dữ liệu 3 bộ train, valid, test\n",
        "name_labels = ['Dữ liệu huấn luyện', 'Dữ liệu xác thực', 'Dữ liệu kiểm tra']\n",
        "data = [len(X_train), len(X_valid), len(X_test)]\n",
        "\n",
        "fig = plt.figure(figsize =(10, 7))\n",
        "plt.pie(data, labels = name_labels)\n",
        "plt.title(\"Thống kê dữ liệu\")\n",
        "# show plot\n",
        "plt.show()"
      ],
      "metadata": {
        "colab": {
          "base_uri": "https://localhost:8080/",
          "height": 428
        },
        "id": "HzzONjH0eGAn",
        "outputId": "9956c619-7972-4791-a5f3-e4f39e3355b7"
      },
      "execution_count": null,
      "outputs": [
        {
          "output_type": "display_data",
          "data": {
            "text/plain": [
              "<Figure size 720x504 with 1 Axes>"
            ],
            "image/png": "[encoded data removed]"
          },
          "metadata": {}
        }
      ]
    },
    {
      "cell_type": "markdown",
      "source": [
        "# **CNN-BiLSTM model**"
      ],
      "metadata": {
        "id": "v8MiEQ8yk9wv"
      }
    },
    {
      "cell_type": "code",
      "execution_count": null,
      "metadata": {
        "id": "JRDc4wZCKRsD"
      },
      "outputs": [],
      "source": [
        "def cnn_bi_lstm_model():\n",
        "  DROPOUT = 0.3\n",
        "  ACTIVATION = \"relu\"\n",
        "  input_dim = data_vocab_size # đầu và là tổng vocab\n",
        "  output_dim = 32 # số chiều đầu ra\n",
        "  input_length = 5 # độ dài của 1 từ\n",
        "\n",
        "  input_layer = Input(shape=(input_length))\n",
        "\n",
        "  # input_dim: số lượng vocab, out_dim: 1 từ muốn có bao nhiêu chiều -> embedding: chuyển mỗi từ thành n chiều có kích thước cố định\n",
        "  feature = Embedding(input_dim=input_dim, output_dim = output_dim, input_length = input_length)(input_layer)\n",
        "  \n",
        "  # Tổng hợp feature theo 2 hướng, cnn và bilstm\n",
        "  #CNN\n",
        "  cnn_feat = Conv1D(filters = 32, kernel_size = 3, padding= 'same', activation = ACTIVATION)(feature) # tạo ra 32 đầu ra\n",
        "  cnn_feat = MaxPooling1D()(cnn_feat) #giảm số từ xuống\n",
        "  cnn_feat = Dropout(DROPOUT)(cnn_feat) # tra'nh overfit\n",
        "  cnn_feat = Conv1D(filters = 32, kernel_size = 3, padding= 'same', activation = ACTIVATION)(cnn_feat)\n",
        "  cnn_feat = MaxPooling1D()(cnn_feat)\n",
        "  cnn_feat = LayerNormalization()(cnn_feat)\n",
        "  cnn_feat = Dropout(DROPOUT)(cnn_feat) # tra'nh overfit\n",
        "\n",
        "  #bidirection_LSTM: de 'concat' dc thi phai dong bo unit cnn vs bi_lstm\n",
        "\n",
        "  # Đi 2 chiều từ trái-phải, phải-trái\n",
        "  bi_lstm_feat = Bidirectional(LSTM(units= 32, dropout = DROPOUT, \n",
        "                                    return_sequences = True), merge_mode = 'concat')(feature)#units = 32 la muon ra output 32 chieu #right-left\n",
        "  bi_lstm_feat = MaxPooling1D()(bi_lstm_feat) #giảm số từ xuống\n",
        "\n",
        "  bi_lstm_feat = Bidirectional(LSTM(units= 32, dropout = DROPOUT, \n",
        "                                   return_sequences = True), merge_mode = 'concat')(bi_lstm_feat) # left-right\n",
        "  bi_lstm_feat = MaxPooling1D()(bi_lstm_feat)\n",
        "  bi_lstm_feat = LayerNormalization()(bi_lstm_feat) #chuẩn hóa đầu vào\n",
        "\n",
        "  combine_feat = tf.keras.layers.Concatenate()([cnn_feat, bi_lstm_feat]) #tổng hợp thành 1 layer chung, duy nhất\n",
        "  combine_feat = GlobalMaxPooling1D()(combine_feat) #tổng hợp lại\n",
        "  combine_feat = LayerNormalization()(combine_feat)\n",
        "\n",
        "  # Phân lớp\n",
        "  layers = Dense(500, activation = ACTIVATION)(combine_feat)\n",
        "  layers = Dropout(DROPOUT)(layers)\n",
        "  layers = Dense(200, activation = ACTIVATION)(layers)\n",
        "  layers = Dropout(DROPOUT)(layers)\n",
        "  layers = Dense(100, activation = ACTIVATION)(layers)\n",
        "  layers = Dropout(DROPOUT)(layers)\n",
        "  layers = Dense(50, activation = ACTIVATION)(layers)\n",
        "  layers = Dropout(DROPOUT)(layers)\n",
        "  layers = Dense(3, activation = 'softmax')(combine_feat) # bài toán cho 3 nhãn nên phải dùng softmax\n",
        "\n",
        "  return tf.keras.Model(inputs = input_layer, outputs = layers) # tra ve model\n"
      ]
    },
    {
      "cell_type": "code",
      "execution_count": null,
      "metadata": {
        "id": "3zVo2d3mXBVe",
        "colab": {
          "base_uri": "https://localhost:8080/"
        },
        "outputId": "0c57512c-aac9-40f3-9e6a-37076d126e96"
      },
      "outputs": [
        {
          "output_type": "stream",
          "name": "stdout",
          "text": [
            "Model: \"model\"\n",
            "__________________________________________________________________________________________________\n",
            " Layer (type)                   Output Shape         Param #     Connected to                     \n",
            "==================================================================================================\n",
            " input_1 (InputLayer)           [(None, 5)]          0           []                               \n",
            "                                                                                                  \n",
            " embedding (Embedding)          (None, 5, 32)        210400      ['input_1[0][0]']                \n",
            "                                                                                                  \n",
            " conv1d (Conv1D)                (None, 5, 32)        3104        ['embedding[0][0]']              \n",
            "                                                                                                  \n",
            " max_pooling1d (MaxPooling1D)   (None, 2, 32)        0           ['conv1d[0][0]']                 \n",
            "                                                                                                  \n",
            " dropout (Dropout)              (None, 2, 32)        0           ['max_pooling1d[0][0]']          \n",
            "                                                                                                  \n",
            " bidirectional (Bidirectional)  (None, 5, 64)        16640       ['embedding[0][0]']              \n",
            "                                                                                                  \n",
            " conv1d_1 (Conv1D)              (None, 2, 32)        3104        ['dropout[0][0]']                \n",
            "                                                                                                  \n",
            " max_pooling1d_2 (MaxPooling1D)  (None, 2, 64)       0           ['bidirectional[0][0]']          \n",
            "                                                                                                  \n",
            " max_pooling1d_1 (MaxPooling1D)  (None, 1, 32)       0           ['conv1d_1[0][0]']               \n",
            "                                                                                                  \n",
            " bidirectional_1 (Bidirectional  (None, 2, 64)       24832       ['max_pooling1d_2[0][0]']        \n",
            " )                                                                                                \n",
            "                                                                                                  \n",
            " layer_normalization (LayerNorm  (None, 1, 32)       64          ['max_pooling1d_1[0][0]']        \n",
            " alization)                                                                                       \n",
            "                                                                                                  \n",
            " max_pooling1d_3 (MaxPooling1D)  (None, 1, 64)       0           ['bidirectional_1[0][0]']        \n",
            "                                                                                                  \n",
            " dropout_1 (Dropout)            (None, 1, 32)        0           ['layer_normalization[0][0]']    \n",
            "                                                                                                  \n",
            " layer_normalization_1 (LayerNo  (None, 1, 64)       128         ['max_pooling1d_3[0][0]']        \n",
            " rmalization)                                                                                     \n",
            "                                                                                                  \n",
            " concatenate (Concatenate)      (None, 1, 96)        0           ['dropout_1[0][0]',              \n",
            "                                                                  'layer_normalization_1[0][0]']  \n",
            "                                                                                                  \n",
            " global_max_pooling1d (GlobalMa  (None, 96)          0           ['concatenate[0][0]']            \n",
            " xPooling1D)                                                                                      \n",
            "                                                                                                  \n",
            " layer_normalization_2 (LayerNo  (None, 96)          192         ['global_max_pooling1d[0][0]']   \n",
            " rmalization)                                                                                     \n",
            "                                                                                                  \n",
            " dense_4 (Dense)                (None, 3)            291         ['layer_normalization_2[0][0]']  \n",
            "                                                                                                  \n",
            "==================================================================================================\n",
            "Total params: 258,755\n",
            "Trainable params: 258,755\n",
            "Non-trainable params: 0\n",
            "__________________________________________________________________________________________________\n"
          ]
        }
      ],
      "source": [
        "# Hiển thị kiến trúc mạng\n",
        "model_cnn_bi_lstm = cnn_bi_lstm_model()\n",
        "model_cnn_bi_lstm.compile(optimizer=Adam(0.001), loss = 'categorical_crossentropy', metrics=['accuracy'])\n",
        "model_cnn_bi_lstm.summary() #(None, 5, 32) (None: là không có bactch_size, 5: là số từ, 32: số chiều)"
      ]
    },
    {
      "cell_type": "markdown",
      "metadata": {
        "id": "SnJE6q-fayVR"
      },
      "source": [
        "**LƯU MODEL VÀ ĐÀO TÀO**"
      ]
    },
    {
      "cell_type": "code",
      "execution_count": null,
      "metadata": {
        "id": "WmOtBybtcLDP"
      },
      "outputs": [],
      "source": [
        "EPOCHS = 25\n",
        "BATCHSIZE = 128"
      ]
    },
    {
      "cell_type": "code",
      "execution_count": null,
      "metadata": {
        "id": "32bJPl0ma1X5",
        "colab": {
          "base_uri": "https://localhost:8080/"
        },
        "outputId": "267c3cf3-d49a-40fb-c3ab-3e5e200cbf36"
      },
      "outputs": [
        {
          "output_type": "stream",
          "name": "stdout",
          "text": [
            "Epoch 1/25\n",
            "167/167 [==============================] - 34s 58ms/step - loss: 0.7795 - accuracy: 0.6779 - val_loss: 0.6260 - val_accuracy: 0.7388\n",
            "Epoch 2/25\n",
            "167/167 [==============================] - 4s 22ms/step - loss: 0.5802 - accuracy: 0.7660 - val_loss: 0.6020 - val_accuracy: 0.7455\n",
            "Epoch 3/25\n",
            "167/167 [==============================] - 4s 22ms/step - loss: 0.5175 - accuracy: 0.7952 - val_loss: 0.6311 - val_accuracy: 0.7545\n",
            "Epoch 4/25\n",
            "167/167 [==============================] - 4s 21ms/step - loss: 0.4775 - accuracy: 0.8144 - val_loss: 0.6308 - val_accuracy: 0.7522\n",
            "Epoch 5/25\n",
            "167/167 [==============================] - 4s 22ms/step - loss: 0.4441 - accuracy: 0.8280 - val_loss: 0.6439 - val_accuracy: 0.7468\n",
            "Epoch 6/25\n",
            "167/167 [==============================] - 4s 21ms/step - loss: 0.4169 - accuracy: 0.8409 - val_loss: 0.6881 - val_accuracy: 0.7496\n",
            "Epoch 7/25\n",
            "167/167 [==============================] - 4s 21ms/step - loss: 0.3835 - accuracy: 0.8528 - val_loss: 0.7109 - val_accuracy: 0.7455\n",
            "Epoch 8/25\n",
            "167/167 [==============================] - 4s 21ms/step - loss: 0.3673 - accuracy: 0.8620 - val_loss: 0.7235 - val_accuracy: 0.7423\n",
            "Epoch 9/25\n",
            "167/167 [==============================] - 4s 22ms/step - loss: 0.3531 - accuracy: 0.8686 - val_loss: 0.7293 - val_accuracy: 0.7380\n",
            "Epoch 10/25\n",
            "167/167 [==============================] - 4s 22ms/step - loss: 0.3357 - accuracy: 0.8736 - val_loss: 0.7984 - val_accuracy: 0.7350\n",
            "Epoch 11/25\n",
            "167/167 [==============================] - 4s 22ms/step - loss: 0.3216 - accuracy: 0.8828 - val_loss: 0.8369 - val_accuracy: 0.7318\n",
            "Epoch 12/25\n",
            "167/167 [==============================] - 4s 21ms/step - loss: 0.3109 - accuracy: 0.8831 - val_loss: 0.8470 - val_accuracy: 0.7406\n",
            "Epoch 13/25\n",
            "167/167 [==============================] - 4s 21ms/step - loss: 0.2992 - accuracy: 0.8893 - val_loss: 0.8613 - val_accuracy: 0.7367\n",
            "Epoch 14/25\n",
            "167/167 [==============================] - 4s 21ms/step - loss: 0.2887 - accuracy: 0.8947 - val_loss: 0.8475 - val_accuracy: 0.7274\n",
            "Epoch 15/25\n",
            "167/167 [==============================] - 4s 21ms/step - loss: 0.2791 - accuracy: 0.8981 - val_loss: 0.9189 - val_accuracy: 0.7440\n",
            "Epoch 16/25\n",
            "167/167 [==============================] - 4s 21ms/step - loss: 0.2737 - accuracy: 0.8968 - val_loss: 0.9270 - val_accuracy: 0.7416\n",
            "Epoch 17/25\n",
            "167/167 [==============================] - 4s 22ms/step - loss: 0.2674 - accuracy: 0.9003 - val_loss: 0.9352 - val_accuracy: 0.7375\n",
            "Epoch 18/25\n",
            "167/167 [==============================] - 4s 22ms/step - loss: 0.2577 - accuracy: 0.9029 - val_loss: 0.9276 - val_accuracy: 0.7339\n",
            "Epoch 19/25\n",
            "167/167 [==============================] - 4s 21ms/step - loss: 0.2502 - accuracy: 0.9064 - val_loss: 1.0085 - val_accuracy: 0.7337\n",
            "Epoch 20/25\n",
            "167/167 [==============================] - 4s 21ms/step - loss: 0.2460 - accuracy: 0.9098 - val_loss: 0.9933 - val_accuracy: 0.7363\n",
            "Epoch 21/25\n",
            "167/167 [==============================] - 4s 22ms/step - loss: 0.2369 - accuracy: 0.9126 - val_loss: 1.0857 - val_accuracy: 0.7382\n",
            "Epoch 22/25\n",
            "167/167 [==============================] - 6s 37ms/step - loss: 0.2390 - accuracy: 0.9131 - val_loss: 1.0765 - val_accuracy: 0.7347\n",
            "Epoch 23/25\n",
            "167/167 [==============================] - 5s 31ms/step - loss: 0.2325 - accuracy: 0.9129 - val_loss: 1.0505 - val_accuracy: 0.7367\n",
            "Epoch 24/25\n",
            "167/167 [==============================] - 4s 21ms/step - loss: 0.2295 - accuracy: 0.9142 - val_loss: 1.0865 - val_accuracy: 0.7315\n",
            "Epoch 25/25\n",
            "167/167 [==============================] - 4s 22ms/step - loss: 0.2260 - accuracy: 0.9182 - val_loss: 1.1103 - val_accuracy: 0.7333\n"
          ]
        },
        {
          "output_type": "execute_result",
          "data": {
            "text/plain": [
              "<keras.callbacks.History at 0x7f73100d2f90>"
            ]
          },
          "metadata": {},
          "execution_count": 23
        }
      ],
      "source": [
        "callback_model_cnn_bi_lstm = tf.keras.callbacks.ModelCheckpoint(\"model_cnn_bi_lstm.h5\",monitor=\"val_loss\") #gọi lại model\n",
        "# Huấn luyện model\n",
        "model_cnn_bi_lstm.fit(vector_train, y_train, epochs=EPOCHS, \n",
        "          batch_size=BATCHSIZE, validation_data=(vector_valid, y_valid), \n",
        "          callbacks=[callback_model_cnn_bi_lstm])#phải là vector_train vs vector_valid"
      ]
    },
    {
      "cell_type": "code",
      "execution_count": null,
      "metadata": {
        "id": "zqCt1YpfdHpO",
        "colab": {
          "base_uri": "https://localhost:8080/"
        },
        "outputId": "f97cd855-6574-4ee4-eaac-836c5aa20d5d"
      },
      "outputs": [
        {
          "output_type": "stream",
          "name": "stdout",
          "text": [
            "148/148 [==============================] - 1s 4ms/step - loss: 1.1050 - accuracy: 0.7349\n",
            "Test accuracy: 0.7349448800086975\n"
          ]
        }
      ],
      "source": [
        "# model_cnn_bi_lstm = load_model('model_cnn_bi_lstm.h5') \n",
        "model_cnn_bi_lstm.load_weights(\"model_cnn_bi_lstm.h5\")\n",
        "# model_cnn_bi_lstm.evaluate(vector_test, y_test)\n",
        "acc = model_cnn_bi_lstm.evaluate(vector_test, y_test)[1]\n",
        "print('Test accuracy:', acc)"
      ]
    },
    {
      "cell_type": "code",
      "source": [
        "predicts = model_cnn_bi_lstm.predict(vector_test)\n",
        "predicts = tf.round(predicts).numpy()\n",
        "\n",
        "print(classification_report(y_test, predicts, target_names = ['NEG', 'NEU' ,'POS'], zero_division = 0))\n"
      ],
      "metadata": {
        "id": "kNWgo9aX0cTg",
        "colab": {
          "base_uri": "https://localhost:8080/"
        },
        "outputId": "be04a38f-9651-48e1-ef1c-f752547d9423"
      },
      "execution_count": null,
      "outputs": [
        {
          "output_type": "stream",
          "name": "stdout",
          "text": [
            "              precision    recall  f1-score   support\n",
            "\n",
            "         NEG       0.63      0.62      0.63      1008\n",
            "         NEU       0.36      0.23      0.29       737\n",
            "         POS       0.83      0.89      0.86      2971\n",
            "\n",
            "   micro avg       0.74      0.73      0.74      4716\n",
            "   macro avg       0.61      0.58      0.59      4716\n",
            "weighted avg       0.72      0.73      0.72      4716\n",
            " samples avg       0.73      0.73      0.73      4716\n",
            "\n"
          ]
        }
      ]
    },
    {
      "cell_type": "markdown",
      "metadata": {
        "id": "uoVBXsfOd3RW"
      },
      "source": [
        "# **DỰ ĐOÁN KẾT QUẢ VỚI MÔ HÌNH CNN-BiLSTM**"
      ]
    },
    {
      "cell_type": "code",
      "execution_count": null,
      "metadata": {
        "id": "3hSN3x7Cdzxo"
      },
      "outputs": [],
      "source": [
        "def predict_result(text, model, tokenizer):\n",
        "  # tiền xử lý dữ liệu đầu vào\n",
        "  pre_noidung = list(tf.keras.preprocessing.text.text_to_word_sequence(text))\n",
        "  pre_noidung = \" \".join(pre_noidung)\n",
        "  pre_noidung_codau = ViTokenizer.tokenize(pre_noidung)\n",
        "  print(\"Văn bản đã xử lý xong:\", pre_noidung_codau)\n",
        "  \n",
        "  tokenizer_noidung = tokenizer.texts_to_sequences([pre_noidung_codau])\n",
        "  vector_data = pad_sequences(tokenizer_noidung, padding='post', maxlen = 5)\n",
        "  # mô hình phân tích suy luận\n",
        "  res = model(vector_data).numpy()[0]\n",
        "  # print(res) # trong 1 mảng, vị trí nào có giá trị lớn nhất thì argmax nó ra\n",
        "  # print(res.argmax()) # trả về vị trí có giá trị lớn nhất\n",
        "  dotincay = float(res.max()) #lấy giá trị lớn nhất\n",
        "  dict_label = {'NEG': 0, 'NEU': 1, 'POS': 2}\n",
        "  brand = list(dict_label.keys()) #lấy tên\n",
        "  \n",
        "  # chuyển đổi ký hiệu thành chữ\n",
        "  label = brand[int(res.argmax())]\n",
        "  opinion = '' # tạo ý kiến rỗng\n",
        "  if label == 'NEG': \n",
        "    opinion = 'Tiêu cực'\n",
        "  elif label == 'POS': \n",
        "    opinion = 'Tích cực'\n",
        "  else:\n",
        "    opinion = 'Trung tính'  \n",
        "\n",
        "  return opinion, dotincay #trả về vị trí nhãn có giá trị lớn nhất và độ tin cậy"
      ]
    },
    {
      "cell_type": "code",
      "source": [
        "model1 = load_model('model_cnn_bi_lstm.h5') \n",
        "\n",
        "#load tập dữ liệu đã train sẵn\n",
        "with open(r\"tokenizer.pkl\",\"rb\") as f:\n",
        "  tokenizer1 = pickle.load(f)"
      ],
      "metadata": {
        "id": "W4D2IQ4EbBio"
      },
      "execution_count": null,
      "outputs": []
    },
    {
      "cell_type": "code",
      "source": [
        "print(predict_result('Áo đẹp lắm', model1, tokenizer1)[0])\n",
        "print(predict_result('Áo xấu quá', model1, tokenizer1)[0])\n",
        "print(predict_result('Áo trông cũng bình thường', model1, tokenizer1)[0])"
      ],
      "metadata": {
        "id": "rKk1G_7J7URv",
        "colab": {
          "base_uri": "https://localhost:8080/"
        },
        "outputId": "539de30a-282d-4e6d-c3d6-267239f1507a"
      },
      "execution_count": null,
      "outputs": [
        {
          "output_type": "stream",
          "name": "stdout",
          "text": [
            "Văn bản đã xử lý xong: áo đẹp lắm\n",
            "Tích cực\n",
            "Văn bản đã xử lý xong: áo xấu quá\n",
            "Tiêu cực\n",
            "Văn bản đã xử lý xong: áo trông cũng bình_thường\n",
            "Tiêu cực\n"
          ]
        }
      ]
    },
    {
      "cell_type": "code",
      "source": [
        "print(predict_result('Áo tuy hơi nhiều chỉ, nhưng nhìn chung là đẹp', model1, tokenizer1)[0])\n",
        "print(predict_result('Hồi sáng mình có đặt 3 cái áo bên shop mà nhăn nheo hết trơn, bực thật sự', model1, tokenizer1)[0])\n",
        "print(predict_result('Hôm nay mình rất buồn nhưng từ khi nhận được áo này mình đã rất vui vì áo đẹp lắm', model1, tokenizer1)[0])"
      ],
      "metadata": {
        "colab": {
          "base_uri": "https://localhost:8080/"
        },
        "id": "KjrGVoWc4CB5",
        "outputId": "9f097bbe-53a7-4ff2-984e-9306679c1f53"
      },
      "execution_count": null,
      "outputs": [
        {
          "output_type": "stream",
          "name": "stdout",
          "text": [
            "Văn bản đã xử lý xong: áo tuy hơi nhiều chỉ nhưng nhìn_chung là đẹp\n",
            "Trung tính\n",
            "Văn bản đã xử lý xong: hồi sáng mình có đặt 3 cái áo bên shop mà nhăn_nheo hết trơn bực thật_sự\n",
            "Tiêu cực\n",
            "Văn bản đã xử lý xong: hôm_nay mình rất buồn nhưng từ khi nhận được áo này mình đã rất vui vì áo đẹp lắm\n",
            "Tích cực\n"
          ]
        }
      ]
    },
    {
      "cell_type": "code",
      "source": [
        "# while(True):\n",
        "#   print(\"Nhập 1 bình luận bất kỳ:\")\n",
        "#   text = input()\n",
        "#   if text == \"exit()\":\n",
        "#     break\n",
        "#   else:\n",
        "#     predict,score = predict_result(text, model2, tokenizer2)\n",
        "#     print(\"Xin dự đoán bình luận trên là:\", predict)\n",
        "#     # print(\"Với độ tin cậy đến: {:.2f}%\".format(score * 100))\n",
        "#     print()"
      ],
      "metadata": {
        "id": "aIBeOdjkFjkw"
      },
      "execution_count": null,
      "outputs": []
    },
    {
      "cell_type": "markdown",
      "source": [
        "# **CNN model**"
      ],
      "metadata": {
        "id": "_Clf0x-Hk6ku"
      }
    },
    {
      "cell_type": "code",
      "source": [
        "def cnn_model():\n",
        "  DROPOUT = 0.3\n",
        "  ACTIVATION = \"relu\"\n",
        "  input_dim = data_vocab_size\n",
        "  output_dim = 32 #số chiều \n",
        "  input_length = 5\n",
        "\n",
        "  input_layer = Input(shape=(input_length))\n",
        "  feature = Embedding(input_dim=input_dim, output_dim = output_dim, input_length = input_length)(input_layer)\n",
        "\n",
        "  #CNN\n",
        "  cnn_feat = Conv1D(filters = 32, kernel_size = 3, padding= 'same', activation = ACTIVATION)(feature)\n",
        "  cnn_feat = MaxPooling1D()(cnn_feat) \n",
        "  cnn_feat = Conv1D(filters = 32, kernel_size = 3, padding= 'same', activation = ACTIVATION)(cnn_feat)\n",
        "  cnn_feat = MaxPooling1D()(cnn_feat) \n",
        "  cnn_feat = Dropout(DROPOUT)(cnn_feat) # tra'nh overfit\n",
        "  cnn_feat = GlobalMaxPooling1D()(cnn_feat) # PHẢI CÓ\n",
        "  cnn_feat = Flatten()(cnn_feat) # làm phẳng các lớp trước khi dense\n",
        "  \n",
        "  # Phân lớp\n",
        "  layers = Dense(500, activation = ACTIVATION)(cnn_feat)\n",
        "  layers = Dropout(DROPOUT)(layers)\n",
        "  layers = Dense(200, activation = ACTIVATION)(layers)\n",
        "  layers = Dropout(DROPOUT)(layers)\n",
        "  layers = Dense(100, activation = ACTIVATION)(layers)\n",
        "  layers = Dropout(DROPOUT)(layers)\n",
        "  layers = Dense(50, activation = ACTIVATION)(layers)\n",
        "  layers = Dropout(DROPOUT)(layers)\n",
        "  layers = Dense(3, activation = 'softmax')(layers)\n",
        "\n",
        "  return tf.keras.Model(inputs = input_layer, outputs = layers) # tra ve model\n",
        "\n",
        "model_CNN = cnn_model()\n",
        "model_CNN.compile(optimizer=Adam(0.001), loss = 'categorical_crossentropy', metrics=['accuracy'])\n",
        "model_CNN.summary() "
      ],
      "metadata": {
        "id": "g7qlpdKhWRCb",
        "colab": {
          "base_uri": "https://localhost:8080/"
        },
        "outputId": "cf314c1e-3d27-43b2-8610-d44d11881c9e"
      },
      "execution_count": null,
      "outputs": [
        {
          "output_type": "stream",
          "name": "stdout",
          "text": [
            "Model: \"model_1\"\n",
            "_________________________________________________________________\n",
            " Layer (type)                Output Shape              Param #   \n",
            "=================================================================\n",
            " input_2 (InputLayer)        [(None, 5)]               0         \n",
            "                                                                 \n",
            " embedding_1 (Embedding)     (None, 5, 32)             210400    \n",
            "                                                                 \n",
            " conv1d_2 (Conv1D)           (None, 5, 32)             3104      \n",
            "                                                                 \n",
            " max_pooling1d_4 (MaxPooling  (None, 2, 32)            0         \n",
            " 1D)                                                             \n",
            "                                                                 \n",
            " conv1d_3 (Conv1D)           (None, 2, 32)             3104      \n",
            "                                                                 \n",
            " max_pooling1d_5 (MaxPooling  (None, 1, 32)            0         \n",
            " 1D)                                                             \n",
            "                                                                 \n",
            " dropout_6 (Dropout)         (None, 1, 32)             0         \n",
            "                                                                 \n",
            " global_max_pooling1d_1 (Glo  (None, 32)               0         \n",
            " balMaxPooling1D)                                                \n",
            "                                                                 \n",
            " flatten (Flatten)           (None, 32)                0         \n",
            "                                                                 \n",
            " dense_5 (Dense)             (None, 500)               16500     \n",
            "                                                                 \n",
            " dropout_7 (Dropout)         (None, 500)               0         \n",
            "                                                                 \n",
            " dense_6 (Dense)             (None, 200)               100200    \n",
            "                                                                 \n",
            " dropout_8 (Dropout)         (None, 200)               0         \n",
            "                                                                 \n",
            " dense_7 (Dense)             (None, 100)               20100     \n",
            "                                                                 \n",
            " dropout_9 (Dropout)         (None, 100)               0         \n",
            "                                                                 \n",
            " dense_8 (Dense)             (None, 50)                5050      \n",
            "                                                                 \n",
            " dropout_10 (Dropout)        (None, 50)                0         \n",
            "                                                                 \n",
            " dense_9 (Dense)             (None, 3)                 153       \n",
            "                                                                 \n",
            "=================================================================\n",
            "Total params: 358,611\n",
            "Trainable params: 358,611\n",
            "Non-trainable params: 0\n",
            "_________________________________________________________________\n"
          ]
        }
      ]
    },
    {
      "cell_type": "code",
      "source": [
        "EPOCHS = 25\n",
        "BATCHSIZE = 128"
      ],
      "metadata": {
        "id": "KdA3dME4q3yp"
      },
      "execution_count": null,
      "outputs": []
    },
    {
      "cell_type": "code",
      "source": [
        "callback_model_cnn = tf.keras.callbacks.ModelCheckpoint(\"model_cnn.h5\",monitor=\"val_loss\")\n",
        "model_CNN.fit(vector_train, y_train, epochs=EPOCHS, \n",
        "          batch_size=BATCHSIZE, validation_data=(vector_valid, y_valid), \n",
        "          callbacks=[callback_model_cnn])#phải là vector_train vs vector_valid"
      ],
      "metadata": {
        "id": "vGDJ1ILVqq5R",
        "colab": {
          "base_uri": "https://localhost:8080/"
        },
        "outputId": "097be977-196e-4b09-d66d-4136ff9b389b"
      },
      "execution_count": null,
      "outputs": [
        {
          "output_type": "stream",
          "name": "stdout",
          "text": [
            "Epoch 1/25\n",
            "167/167 [==============================] - 3s 15ms/step - loss: 0.7476 - accuracy: 0.6636 - val_loss: 0.6377 - val_accuracy: 0.7431\n",
            "Epoch 2/25\n",
            "167/167 [==============================] - 2s 13ms/step - loss: 0.5878 - accuracy: 0.7671 - val_loss: 0.5900 - val_accuracy: 0.7532\n",
            "Epoch 3/25\n",
            "167/167 [==============================] - 2s 14ms/step - loss: 0.5205 - accuracy: 0.7927 - val_loss: 0.6065 - val_accuracy: 0.7560\n",
            "Epoch 4/25\n",
            "167/167 [==============================] - 2s 14ms/step - loss: 0.4686 - accuracy: 0.8148 - val_loss: 0.6151 - val_accuracy: 0.7524\n",
            "Epoch 5/25\n",
            "167/167 [==============================] - 2s 14ms/step - loss: 0.4116 - accuracy: 0.8372 - val_loss: 0.6726 - val_accuracy: 0.7332\n",
            "Epoch 6/25\n",
            "167/167 [==============================] - 2s 14ms/step - loss: 0.3758 - accuracy: 0.8580 - val_loss: 0.7138 - val_accuracy: 0.7391\n",
            "Epoch 7/25\n",
            "167/167 [==============================] - 2s 13ms/step - loss: 0.3441 - accuracy: 0.8699 - val_loss: 0.7695 - val_accuracy: 0.7268\n",
            "Epoch 8/25\n",
            "167/167 [==============================] - 2s 13ms/step - loss: 0.3227 - accuracy: 0.8839 - val_loss: 0.7778 - val_accuracy: 0.7272\n",
            "Epoch 9/25\n",
            "167/167 [==============================] - 2s 14ms/step - loss: 0.3011 - accuracy: 0.8938 - val_loss: 0.8008 - val_accuracy: 0.7305\n",
            "Epoch 10/25\n",
            "167/167 [==============================] - 2s 14ms/step - loss: 0.2834 - accuracy: 0.9040 - val_loss: 0.8590 - val_accuracy: 0.7109\n",
            "Epoch 11/25\n",
            "167/167 [==============================] - 2s 14ms/step - loss: 0.2679 - accuracy: 0.9085 - val_loss: 0.8992 - val_accuracy: 0.7270\n",
            "Epoch 12/25\n",
            "167/167 [==============================] - 2s 14ms/step - loss: 0.2547 - accuracy: 0.9142 - val_loss: 0.9632 - val_accuracy: 0.7302\n",
            "Epoch 13/25\n",
            "167/167 [==============================] - 2s 14ms/step - loss: 0.2394 - accuracy: 0.9212 - val_loss: 0.9044 - val_accuracy: 0.7225\n",
            "Epoch 14/25\n",
            "167/167 [==============================] - 2s 14ms/step - loss: 0.2309 - accuracy: 0.9232 - val_loss: 0.9712 - val_accuracy: 0.7217\n",
            "Epoch 15/25\n",
            "167/167 [==============================] - 3s 20ms/step - loss: 0.2270 - accuracy: 0.9266 - val_loss: 1.0096 - val_accuracy: 0.7068\n",
            "Epoch 16/25\n",
            "167/167 [==============================] - 3s 16ms/step - loss: 0.2142 - accuracy: 0.9317 - val_loss: 1.1257 - val_accuracy: 0.7251\n",
            "Epoch 17/25\n",
            "167/167 [==============================] - 2s 14ms/step - loss: 0.2072 - accuracy: 0.9340 - val_loss: 1.0906 - val_accuracy: 0.7208\n",
            "Epoch 18/25\n",
            "167/167 [==============================] - 2s 14ms/step - loss: 0.1988 - accuracy: 0.9358 - val_loss: 1.0138 - val_accuracy: 0.7159\n",
            "Epoch 19/25\n",
            "167/167 [==============================] - 2s 14ms/step - loss: 0.1944 - accuracy: 0.9380 - val_loss: 1.0661 - val_accuracy: 0.7290\n",
            "Epoch 20/25\n",
            "167/167 [==============================] - 2s 14ms/step - loss: 0.1858 - accuracy: 0.9421 - val_loss: 1.0609 - val_accuracy: 0.7105\n",
            "Epoch 21/25\n",
            "167/167 [==============================] - 2s 14ms/step - loss: 0.1841 - accuracy: 0.9420 - val_loss: 1.1789 - val_accuracy: 0.7182\n",
            "Epoch 22/25\n",
            "167/167 [==============================] - 2s 14ms/step - loss: 0.1803 - accuracy: 0.9430 - val_loss: 1.0624 - val_accuracy: 0.7169\n",
            "Epoch 23/25\n",
            "167/167 [==============================] - 2s 13ms/step - loss: 0.1763 - accuracy: 0.9452 - val_loss: 1.0971 - val_accuracy: 0.7195\n",
            "Epoch 24/25\n",
            "167/167 [==============================] - 2s 14ms/step - loss: 0.1670 - accuracy: 0.9481 - val_loss: 1.2027 - val_accuracy: 0.7135\n",
            "Epoch 25/25\n",
            "167/167 [==============================] - 2s 14ms/step - loss: 0.1657 - accuracy: 0.9483 - val_loss: 1.2713 - val_accuracy: 0.7214\n"
          ]
        },
        {
          "output_type": "execute_result",
          "data": {
            "text/plain": [
              "<keras.callbacks.History at 0x7f730c123150>"
            ]
          },
          "metadata": {},
          "execution_count": 33
        }
      ]
    },
    {
      "cell_type": "code",
      "source": [
        "# model_CNN = load_model('model_cnn.h5') \n",
        "model_CNN.load_weights(\"model_cnn.h5\")\n",
        "# model_CNN.evaluate(X_test, y_test)\n",
        "acc_cnn = model_CNN.evaluate(vector_test, y_test)[1]\n",
        "print('Test accuracy:', acc_cnn)"
      ],
      "metadata": {
        "id": "MhooD8GKZ3co",
        "colab": {
          "base_uri": "https://localhost:8080/"
        },
        "outputId": "37d7eeaa-f1ce-4455-e0e6-75e8677a4fb5"
      },
      "execution_count": null,
      "outputs": [
        {
          "output_type": "stream",
          "name": "stdout",
          "text": [
            "148/148 [==============================] - 0s 2ms/step - loss: 1.2654 - accuracy: 0.7299\n",
            "Test accuracy: 0.7298558354377747\n"
          ]
        }
      ]
    },
    {
      "cell_type": "code",
      "source": [
        "predicts_cnn = model_CNN.predict(vector_test)\n",
        "predicts_cnn = tf.round(predicts_cnn).numpy()\n",
        "\n",
        "print(classification_report(y_test, predicts_cnn, target_names = ['NEG', 'NEU' ,'POS'], zero_division = 0))\n"
      ],
      "metadata": {
        "id": "T4laOVIiaF9s",
        "colab": {
          "base_uri": "https://localhost:8080/"
        },
        "outputId": "7fa91a24-bdb1-4ae6-e597-36745ce0194a"
      },
      "execution_count": null,
      "outputs": [
        {
          "output_type": "stream",
          "name": "stdout",
          "text": [
            "              precision    recall  f1-score   support\n",
            "\n",
            "         NEG       0.65      0.59      0.62      1008\n",
            "         NEU       0.34      0.31      0.32       737\n",
            "         POS       0.84      0.88      0.86      2971\n",
            "\n",
            "   micro avg       0.73      0.73      0.73      4716\n",
            "   macro avg       0.61      0.59      0.60      4716\n",
            "weighted avg       0.72      0.73      0.72      4716\n",
            " samples avg       0.73      0.73      0.73      4716\n",
            "\n"
          ]
        }
      ]
    },
    {
      "cell_type": "markdown",
      "source": [
        "# **DỰ ĐOÁN KẾT QUẢ VỚI MÔ HÌNH CNN**"
      ],
      "metadata": {
        "id": "3wF6f6ttTbK5"
      }
    },
    {
      "cell_type": "code",
      "source": [
        "model2 = load_model('model_cnn.h5') \n",
        "\n",
        "#load tập dữ liệu đã train sẵn\n",
        "with open(r\"tokenizer.pkl\",\"rb\") as f:\n",
        "  tokenizer2 = pickle.load(f)"
      ],
      "metadata": {
        "id": "67MimZ1zTeWW"
      },
      "execution_count": null,
      "outputs": []
    },
    {
      "cell_type": "code",
      "source": [
        "print(predict_result('Áo đẹp lắm', model2, tokenizer2)[0])\n",
        "print(predict_result('Áo xấu quá', model2, tokenizer2)[0])\n",
        "print(predict_result('Áo trông cũng bình thường', model2, tokenizer2)[0])"
      ],
      "metadata": {
        "id": "xKk27Ob-JhvZ",
        "colab": {
          "base_uri": "https://localhost:8080/"
        },
        "outputId": "6ecebe5d-1cca-4bbc-b991-47be3f56be00"
      },
      "execution_count": null,
      "outputs": [
        {
          "output_type": "stream",
          "name": "stdout",
          "text": [
            "Văn bản đã xử lý xong: áo đẹp lắm\n",
            "Tích cực\n",
            "Văn bản đã xử lý xong: áo xấu quá\n",
            "Tiêu cực\n",
            "Văn bản đã xử lý xong: áo trông cũng bình_thường\n",
            "Trung tính\n"
          ]
        }
      ]
    },
    {
      "cell_type": "code",
      "source": [
        "print(predict_result('Áo tuy hơi nhiều chỉ, nhưng nhìn chung là đẹp', model2, tokenizer2)[0])\n",
        "print(predict_result('Hồi sáng mình có đặt 3 cái áo bên shop mà nhăn nheo hết trơn, bực thật sự', model2, tokenizer2)[0])\n",
        "print(predict_result('Hôm nay mình rất buồn nhưng từ khi nhận được áo này mình đã rất vui vì áo đẹp lắm', model1, tokenizer1)[0])"
      ],
      "metadata": {
        "id": "_t6Ldserf9qG",
        "colab": {
          "base_uri": "https://localhost:8080/"
        },
        "outputId": "842ca20a-0e07-4560-fd5d-00b2df9a115b"
      },
      "execution_count": null,
      "outputs": [
        {
          "output_type": "stream",
          "name": "stdout",
          "text": [
            "Văn bản đã xử lý xong: áo tuy hơi nhiều chỉ nhưng nhìn_chung là đẹp\n",
            "Tích cực\n",
            "Văn bản đã xử lý xong: hồi sáng mình có đặt 3 cái áo bên shop mà nhăn_nheo hết trơn bực thật_sự\n",
            "Tiêu cực\n",
            "Văn bản đã xử lý xong: hôm_nay mình rất buồn nhưng từ khi nhận được áo này mình đã rất vui vì áo đẹp lắm\n",
            "Tích cực\n"
          ]
        }
      ]
    },
    {
      "cell_type": "markdown",
      "source": [
        "# **SO SÁNH 2 MÔ HÌNH**"
      ],
      "metadata": {
        "id": "hEj-O6AT6vJ9"
      }
    },
    {
      "cell_type": "code",
      "source": [
        "import numpy as np\n",
        "import matplotlib.pyplot as plt\n",
        "\n",
        "#hiển thị accuracy\n",
        "print(\"Accuracy CNN+BiLSTM: %.2f\"%(acc*100),'%')\n",
        "print(\"Accuracy CNN: %.2f\"%(acc_cnn*100),'%')\n",
        "print()\n",
        "\n",
        "# Tạo dataset\n",
        "data = {'CNN':acc_cnn, 'CNN+BiLSTM':acc}\n",
        "courses = list(data.keys())\n",
        "values = list(data.values())\n",
        "  \n",
        "fig = plt.figure(figsize = (15, 8))\n",
        " \n",
        "# Tạo bar plot\n",
        "plt.bar(courses, values, color ='blue',\n",
        "        width = 0.8)\n",
        " \n",
        "# plt.xlabel(\"\")\n",
        "plt.ylabel(\"Accuracy\")\n",
        "plt.title(\"So sánh accuracy giữa CNN và CNN+BiLSTM\")\n",
        "plt.show()"
      ],
      "metadata": {
        "id": "zzPpLwH96oFI",
        "colab": {
          "base_uri": "https://localhost:8080/",
          "height": 551
        },
        "outputId": "22249d4b-ad6c-4eef-ea79-bdc114275f27"
      },
      "execution_count": null,
      "outputs": [
        {
          "output_type": "stream",
          "name": "stdout",
          "text": [
            "Accuracy CNN+BiLSTM: 73.49 %\n",
            "Accuracy CNN: 72.99 %\n",
            "\n"
          ]
        },
        {
          "output_type": "display_data",
          "data": {
            "text/plain": [
              "<Figure size 1080x576 with 1 Axes>"
            ],
            "image/png": "[encoded data removed]"
          },
          "metadata": {
            "needs_background": "light"
          }
        }
      ]
    },
    {
      "cell_type": "code",
      "source": [
        "import numpy as np\n",
        "import matplotlib.pyplot as plt\n",
        "\n",
        "# Tính score\n",
        "predict_test = model_cnn_bi_lstm.predict(vector_test)\n",
        "predict_test = predict_test.argmax(-1)\n",
        "y_test_true = y_test.argmax(-1)\n",
        "score_cnn_bi_lstm = f1_score(y_test_true, predict_test, average='weighted')\n",
        "print(\"f1_score CNN+BiLSTM: %.2f\"%(score_cnn_bi_lstm*100),'%')\n",
        "\n",
        "predict_test2 = model_CNN.predict(vector_test)\n",
        "predict_test2 = predict_test2.argmax(-1)\n",
        "y_test_true2 = y_test.argmax(-1)\n",
        "score_cnn = f1_score(y_test_true2, predict_test2, average='weighted')\n",
        "print(\"f1_score CNN: %.2f\"%(score_cnn*100),'%')\n",
        "print()\n",
        "\n",
        "# Tạo dataset\n",
        "data = {'CNN':score_cnn, 'CNN+BiLSTM':score_cnn_bi_lstm}\n",
        "courses = list(data.keys())\n",
        "values = list(data.values())\n",
        "  \n",
        "fig = plt.figure(figsize = (15, 8))\n",
        "\n",
        "# Tạo bar plot\n",
        "plt.bar(courses, values, color ='purple',\n",
        "        width = 0.8)\n",
        "\n",
        " \n",
        "# plt.xlabel(\"\")\n",
        "plt.ylabel(\"f1_score\")\n",
        "plt.title(\"So sánh f1_score giữa CNN và CNN+BiLSTM\")\n",
        "plt.show()"
      ],
      "metadata": {
        "id": "7LfvQRVbcHSB",
        "colab": {
          "base_uri": "https://localhost:8080/",
          "height": 551
        },
        "outputId": "f2618168-7749-4a76-a2f3-af77e91ab34c"
      },
      "execution_count": null,
      "outputs": [
        {
          "output_type": "stream",
          "name": "stdout",
          "text": [
            "f1_score CNN+BiLSTM: 72.19 %\n",
            "f1_score CNN: 72.55 %\n",
            "\n"
          ]
        },
        {
          "output_type": "display_data",
          "data": {
            "text/plain": [
              "<Figure size 1080x576 with 1 Axes>"
            ],
            "image/png": "[encoded data removed]"
          },
          "metadata": {
            "needs_background": "light"
          }
        }
      ]
    }
  ],
  "metadata": {
    "colab": {
      "collapsed_sections": [],
      "name": "51900214-PhanQuangThai-51900053-NguyenThanhDuy-So 17- Code.ipynb",
      "provenance": []
    },
    "kernelspec": {
      "display_name": "Python 3",
      "name": "python3"
    },
    "language_info": {
      "name": "python"
    }
  },
  "nbformat": 4,
  "nbformat_minor": 0
}